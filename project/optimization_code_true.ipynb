{
 "cells": [
  {
   "cell_type": "code",
   "execution_count": 8,
   "metadata": {},
   "outputs": [
    {
     "name": "stdout",
     "output_type": "stream",
     "text": [
      "Gurobi Optimizer version 12.0.1 build v12.0.1rc0 (win64 - Windows 10.0 (19045.2))\n",
      "\n",
      "CPU model: 12th Gen Intel(R) Core(TM) i7-1255U, instruction set [SSE2|AVX|AVX2]\n",
      "Thread count: 10 physical cores, 12 logical processors, using up to 12 threads\n",
      "\n",
      "Academic license 2632106 - for non-commercial use only - registered to a.___@student.tudelft.nl\n",
      "Optimize a model with 126 rows, 35 columns and 205 nonzeros\n",
      "Model fingerprint: 0x1eb61a73\n",
      "Variable types: 10 continuous, 25 integer (25 binary)\n",
      "Coefficient statistics:\n",
      "  Matrix range     [1e+00, 1e+03]\n",
      "  Objective range  [1e+01, 1e+01]\n",
      "  Bounds range     [1e+00, 1e+00]\n",
      "  RHS range        [1e+00, 1e+03]\n",
      "Found heuristic solution: objective 60.0000000\n",
      "Presolve removed 89 rows and 11 columns\n",
      "Presolve time: 0.00s\n",
      "Presolved: 37 rows, 24 columns, 160 nonzeros\n",
      "Variable types: 8 continuous, 16 integer (16 binary)\n",
      "\n",
      "Root relaxation: objective 4.000000e+01, 19 iterations, 0.00 seconds (0.00 work units)\n",
      "\n",
      "    Nodes    |    Current Node    |     Objective Bounds      |     Work\n",
      " Expl Unexpl |  Obj  Depth IntInf | Incumbent    BestBd   Gap | It/Node Time\n",
      "\n",
      "     0     0   40.00000    0    9   60.00000   40.00000  33.3%     -    0s\n",
      "H    0     0                      50.0000000   40.00000  20.0%     -    0s\n",
      "     0     0   50.00000    0    8   50.00000   50.00000  0.00%     -    0s\n",
      "\n",
      "Cutting planes:\n",
      "  Implied bound: 4\n",
      "  MIR: 2\n",
      "  RLT: 10\n",
      "  Relax-and-lift: 1\n",
      "  BQP: 2\n",
      "  PSD: 1\n",
      "\n",
      "Explored 1 nodes (34 simplex iterations) in 0.03 seconds (0.00 work units)\n",
      "Thread count was 12 (of 12 available processors)\n",
      "\n",
      "Solution count 2: 50 60 \n",
      "\n",
      "Optimal solution found (tolerance 1.00e-04)\n",
      "Best objective 5.000000000000e+01, best bound 5.000000000000e+01, gap 0.0000%\n"
     ]
    }
   ],
   "source": [
    "from gurobipy import Model, GRB, quicksum\n",
    "\n",
    "# Initialize the model\n",
    "model = Model(\"VRPSPD\")\n",
    "\n",
    "# Define sets\n",
    "nodes = [0, 1, 2, 3, 4]  # 0 is the depot\n",
    "customer_nodes = [1, 2, 3, 4]  # Excluding depot\n",
    "vehicles = [0, 1]  # Two vehicles\n",
    "K = len(vehicles)  # Total number of vehicles\n",
    "\n",
    "# Example data\n",
    "distance = {(i, j): 10 for i in nodes for j in nodes if i != j}  # Dummy distances\n",
    "capacity = 100  # Vehicle capacity Q\n",
    "pickup = {1: 10, 2: 15, 3: 20, 4: 25}\n",
    "delivery = {1: 5, 2: 10, 3: 15, 4: 20}\n",
    "M1 = 1000  # Big-M constant for delivery\n",
    "M2 = 1000  # Big-M constant for load\n",
    "\n",
    "# Decision Variables\n",
    "x = model.addVars(nodes, nodes, vtype=GRB.BINARY, name=\"x\")\n",
    "D = model.addVars(nodes, vtype=GRB.CONTINUOUS, name=\"D\")  # Delivery load\n",
    "L = model.addVars(nodes, vtype=GRB.CONTINUOUS, name=\"L\")  # Total load\n",
    "\n",
    "# Prevent self-loops\n",
    "for i in nodes:\n",
    "    model.addConstr(x[i, i] == 0, name=f\"no_self_loop_{i}\")\n",
    "\n",
    "# **Constraint 1: Each customer node is left by exactly one vehicle**\n",
    "for j in customer_nodes:\n",
    "    model.addConstr(quicksum(x[i, j] for i in nodes if i != j) == 1, name=f\"leave_once_{j}\")\n",
    "\n",
    "# **Constraint 2: Each customer node is approached by exactly one vehicle**\n",
    "for j in customer_nodes:\n",
    "    model.addConstr(quicksum(x[j, i] for i in nodes if i != j) == 1, name=f\"approach_once_{j}\")\n",
    "\n",
    "# **Constraint 3: At most `K` vehicles leave the depot**\n",
    "model.addConstr(quicksum(x[0, i] for i in customer_nodes) <= K, name=\"limit_vehicles_leaving_depot\")\n",
    "\n",
    "# **Constraint 4: Delivery load consistency**\n",
    "for i in customer_nodes:\n",
    "    for j in customer_nodes:\n",
    "        model.addConstr(D[i] >= D[j] + delivery[i] - M1 * (1 - x[i, j]), name=f\"delivery_consistency_{i}_{j}\")\n",
    "\n",
    "# **Constraint 5: Load consistency at customer nodes**\n",
    "for j in customer_nodes:\n",
    "    model.addConstr(L[j] >= D[j] - delivery[j] + pickup[j], name=f\"load_consistency_{j}\")\n",
    "\n",
    "# **Constraint 6: Load consistency between nodes**\n",
    "for i in customer_nodes:\n",
    "    for j in customer_nodes:\n",
    "        model.addConstr(L[j] >= L[i] - delivery[j] + pickup[j] - M2 * (1 - x[i, j]), name=f\"load_transfer_{i}_{j}\")\n",
    "\n",
    "# **Constraint 7: Delivery demand feasibility**\n",
    "for i in customer_nodes:  # CHANGED: Iterate over customer_nodes instead of nodes\n",
    "    model.addConstr(delivery[i] <= D[i], name=f\"delivery_feasibility_lower_{i}\")\n",
    "    model.addConstr(D[i] <= capacity, name=f\"delivery_feasibility_upper_{i}\")\n",
    "\n",
    "# **Constraint 8: Pickup demand feasibility**\n",
    "for i in customer_nodes:  # CHANGED: Iterate over customer_nodes instead of nodes\n",
    "    model.addConstr(pickup[i] <= L[i], name=f\"pickup_feasibility_lower_{i}\")\n",
    "    model.addConstr(L[i] <= capacity, name=f\"pickup_feasibility_upper_{i}\")\n",
    "\n",
    "# **Constraint 9: Binary constraint for vehicle routing**\n",
    "for i in nodes:\n",
    "    for j in nodes:\n",
    "        model.addConstr(x[i, j] >= 0, name=f\"binary_lb_{i}_{j}\")\n",
    "        model.addConstr(x[i, j] <= 1, name=f\"binary_ub_{i}_{j}\")\n",
    "\n",
    "# **Constraint 10: Non-negativity of load variables**\n",
    "for i in nodes:\n",
    "    model.addConstr(D[i] >= 0, name=f\"non_negative_D_{i}\")\n",
    "    model.addConstr(L[i] >= 0, name=f\"non_negative_L_{i}\")\n",
    "\n",
    "# Objective: Minimize total distance traveled\n",
    "model.setObjective(quicksum(distance[i, j] * x[i, j] for i in nodes for j in nodes if i != j), GRB.MINIMIZE)\n",
    "\n",
    "# Solve Model\n",
    "model.optimize()"
   ]
  },
  {
   "cell_type": "code",
   "execution_count": 9,
   "metadata": {},
   "outputs": [
    {
     "name": "stdout",
     "output_type": "stream",
     "text": [
      "\n",
      "Optimal Solution Found:\n",
      "x[0,0]: 0.0\n",
      "x[0,1]: 0.0\n",
      "x[0,2]: 0.0\n",
      "x[0,3]: 0.0\n",
      "x[0,4]: 1.0\n",
      "x[1,0]: 0.0\n",
      "x[1,1]: 0.0\n",
      "x[1,2]: 1.0\n",
      "x[1,3]: 0.0\n",
      "x[1,4]: 0.0\n",
      "x[2,0]: 0.0\n",
      "x[2,1]: 0.0\n",
      "x[2,2]: 0.0\n",
      "x[2,3]: 1.0\n",
      "x[2,4]: 0.0\n",
      "x[3,0]: 1.0\n",
      "x[3,1]: 0.0\n",
      "x[3,2]: 0.0\n",
      "x[3,3]: 0.0\n",
      "x[3,4]: 0.0\n",
      "x[4,0]: 0.0\n",
      "x[4,1]: 1.0\n",
      "x[4,2]: 0.0\n",
      "x[4,3]: 0.0\n",
      "x[4,4]: 0.0\n",
      "D[0]: 0.0\n",
      "D[1]: 30.0\n",
      "D[2]: 25.0\n",
      "D[3]: 15.0\n",
      "D[4]: 50.0\n",
      "L[0]: 0.0\n",
      "L[1]: 60.0\n",
      "L[2]: 65.0\n",
      "L[3]: 70.0\n",
      "L[4]: 55.0\n",
      "\n",
      "Objective Value: 50.0\n"
     ]
    }
   ],
   "source": [
    "if model.status == GRB.OPTIMAL:\n",
    "    print(\"\\nOptimal Solution Found:\")\n",
    "    for var in model.getVars():\n",
    "        print(f\"{var.varName}: {var.x}\")\n",
    "    print(f\"\\nObjective Value: {model.objVal}\")\n"
   ]
  },
  {
   "cell_type": "code",
   "execution_count": 4,
   "metadata": {},
   "outputs": [
    {
     "name": "stdout",
     "output_type": "stream",
     "text": [
      "\n",
      "--- Verification Results ---\n"
     ]
    },
    {
     "ename": "KeyError",
     "evalue": "(0, 0, 0)",
     "output_type": "error",
     "traceback": [
      "\u001b[1;31m---------------------------------------------------------------------------\u001b[0m",
      "\u001b[1;31mKeyError\u001b[0m                                  Traceback (most recent call last)",
      "Cell \u001b[1;32mIn[4], line 6\u001b[0m\n\u001b[0;32m      4\u001b[0m     \u001b[38;5;28;01mfor\u001b[39;00m j \u001b[38;5;129;01min\u001b[39;00m nodes:\n\u001b[0;32m      5\u001b[0m         \u001b[38;5;28;01mfor\u001b[39;00m v \u001b[38;5;129;01min\u001b[39;00m vehicles:\n\u001b[1;32m----> 6\u001b[0m             \u001b[38;5;28;01mif\u001b[39;00m \u001b[43mx\u001b[49m\u001b[43m[\u001b[49m\u001b[43mi\u001b[49m\u001b[43m,\u001b[49m\u001b[43m \u001b[49m\u001b[43mj\u001b[49m\u001b[43m,\u001b[49m\u001b[43m \u001b[49m\u001b[43mv\u001b[49m\u001b[43m]\u001b[49m\u001b[38;5;241m.\u001b[39mx \u001b[38;5;241m>\u001b[39m \u001b[38;5;241m0.5\u001b[39m:\n\u001b[0;32m      7\u001b[0m                 \u001b[38;5;28mprint\u001b[39m(\u001b[38;5;124mf\u001b[39m\u001b[38;5;124m\"\u001b[39m\u001b[38;5;124mVehicle \u001b[39m\u001b[38;5;132;01m{\u001b[39;00mv\u001b[38;5;132;01m}\u001b[39;00m\u001b[38;5;124m travels from \u001b[39m\u001b[38;5;132;01m{\u001b[39;00mi\u001b[38;5;132;01m}\u001b[39;00m\u001b[38;5;124m to \u001b[39m\u001b[38;5;132;01m{\u001b[39;00mj\u001b[38;5;132;01m}\u001b[39;00m\u001b[38;5;124m\"\u001b[39m)\n\u001b[0;32m      8\u001b[0m \u001b[38;5;28mprint\u001b[39m(\u001b[38;5;124mf\u001b[39m\u001b[38;5;124m\"\u001b[39m\u001b[38;5;124mTotal Cost: \u001b[39m\u001b[38;5;132;01m{\u001b[39;00mmodel\u001b[38;5;241m.\u001b[39mobjVal\u001b[38;5;132;01m}\u001b[39;00m\u001b[38;5;124m\"\u001b[39m)\n",
      "\u001b[1;31mKeyError\u001b[0m: (0, 0, 0)"
     ]
    }
   ],
   "source": [
    "if model.status == GRB.OPTIMAL:\n",
    "    print(\"\\n--- Verification Results ---\")\n",
    "    for i in nodes:\n",
    "        for j in nodes:\n",
    "            for v in vehicles:\n",
    "                if x[i, j, v].x > 0.5:\n",
    "                    print(f\"Vehicle {v} travels from {i} to {j}\")\n",
    "    print(f\"Total Cost: {model.objVal}\")\n"
   ]
  },
  {
   "cell_type": "code",
   "execution_count": 5,
   "metadata": {},
   "outputs": [
    {
     "name": "stdout",
     "output_type": "stream",
     "text": [
      "\n",
      "Testing with Capacity = 80\n",
      "Discarded solution information\n"
     ]
    },
    {
     "ename": "NameError",
     "evalue": "name 'y' is not defined",
     "output_type": "error",
     "traceback": [
      "\u001b[1;31m---------------------------------------------------------------------------\u001b[0m",
      "\u001b[1;31mNameError\u001b[0m                                 Traceback (most recent call last)",
      "Cell \u001b[1;32mIn[5], line 5\u001b[0m\n\u001b[0;32m      3\u001b[0m model\u001b[38;5;241m.\u001b[39mreset()  \u001b[38;5;66;03m# Reset model before each test\u001b[39;00m\n\u001b[0;32m      4\u001b[0m \u001b[38;5;28;01mfor\u001b[39;00m v \u001b[38;5;129;01min\u001b[39;00m vehicles:\n\u001b[1;32m----> 5\u001b[0m     model\u001b[38;5;241m.\u001b[39maddConstr(\u001b[38;5;28;43msum\u001b[39;49m\u001b[43m(\u001b[49m\u001b[43my\u001b[49m\u001b[43m[\u001b[49m\u001b[43mi\u001b[49m\u001b[43m]\u001b[49m\u001b[43m \u001b[49m\u001b[38;5;28;43;01mfor\u001b[39;49;00m\u001b[43m \u001b[49m\u001b[43mi\u001b[49m\u001b[43m \u001b[49m\u001b[38;5;129;43;01min\u001b[39;49;00m\u001b[43m \u001b[49m\u001b[43mnodes\u001b[49m\u001b[43m)\u001b[49m \u001b[38;5;241m<\u001b[39m\u001b[38;5;241m=\u001b[39m cap)\n\u001b[0;32m      6\u001b[0m model\u001b[38;5;241m.\u001b[39moptimize()\n",
      "Cell \u001b[1;32mIn[5], line 5\u001b[0m, in \u001b[0;36m<genexpr>\u001b[1;34m(.0)\u001b[0m\n\u001b[0;32m      3\u001b[0m model\u001b[38;5;241m.\u001b[39mreset()  \u001b[38;5;66;03m# Reset model before each test\u001b[39;00m\n\u001b[0;32m      4\u001b[0m \u001b[38;5;28;01mfor\u001b[39;00m v \u001b[38;5;129;01min\u001b[39;00m vehicles:\n\u001b[1;32m----> 5\u001b[0m     model\u001b[38;5;241m.\u001b[39maddConstr(\u001b[38;5;28msum\u001b[39m(\u001b[43my\u001b[49m[i] \u001b[38;5;28;01mfor\u001b[39;00m i \u001b[38;5;129;01min\u001b[39;00m nodes) \u001b[38;5;241m<\u001b[39m\u001b[38;5;241m=\u001b[39m cap)\n\u001b[0;32m      6\u001b[0m model\u001b[38;5;241m.\u001b[39moptimize()\n",
      "\u001b[1;31mNameError\u001b[0m: name 'y' is not defined"
     ]
    }
   ],
   "source": [
    "for cap in [80, 100, 120]:  # Testing different vehicle capacities\n",
    "    print(f\"\\nTesting with Capacity = {cap}\")\n",
    "    model.reset()  # Reset model before each test\n",
    "    for v in vehicles:\n",
    "        model.addConstr(sum(y[i] for i in nodes) <= cap)\n",
    "    model.optimize()\n"
   ]
  },
  {
   "cell_type": "code",
   "execution_count": null,
   "metadata": {},
   "outputs": [],
   "source": []
  },
  {
   "cell_type": "code",
   "execution_count": null,
   "metadata": {},
   "outputs": [],
   "source": []
  }
 ],
 "metadata": {
  "kernelspec": {
   "display_name": "Python 3",
   "language": "python",
   "name": "python3"
  },
  "language_info": {
   "codemirror_mode": {
    "name": "ipython",
    "version": 3
   },
   "file_extension": ".py",
   "mimetype": "text/x-python",
   "name": "python",
   "nbconvert_exporter": "python",
   "pygments_lexer": "ipython3",
   "version": "3.12.3"
  }
 },
 "nbformat": 4,
 "nbformat_minor": 2
}
